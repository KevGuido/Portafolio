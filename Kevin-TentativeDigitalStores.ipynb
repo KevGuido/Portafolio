{
 "cells": [
  {
   "cell_type": "markdown",
   "metadata": {},
   "source": [
    "# Profitable App Profiles for the App Store and Google Play Markets"
   ]
  },
  {
   "cell_type": "markdown",
   "metadata": {},
   "source": [
    "## Opening and Exploring Data\n",
    "We begin by defining some functions to automate some repetitive tasks."
   ]
  },
  {
   "cell_type": "code",
   "execution_count": 1,
   "metadata": {},
   "outputs": [],
   "source": [
    "# Creating a function that will open csv's as list of lists\n",
    "def open_as_list(dataset, separate_header=True):\n",
    "    opened_file = open(dataset, encoding='utf8')\n",
    "    from csv import reader\n",
    "    read_file = reader(opened_file)\n",
    "    list_file = list(read_file)\n",
    "    if separate_header:\n",
    "        return list_file[0], list_file[1:]\n",
    "    else:\n",
    "        return list_file"
   ]
  },
  {
   "cell_type": "code",
   "execution_count": 2,
   "metadata": {},
   "outputs": [],
   "source": [
    "# This is a function provided by Dataquest that allows us to print rows in a readable way\n",
    "def explore_data(dataset, start, end, rows_and_columns=False):\n",
    "    dataset_slice = dataset[start:end]    \n",
    "    for row in dataset_slice:\n",
    "        print(row)\n",
    "        print('\\n') # adds a new (empty) line after each row\n",
    "\n",
    "    if rows_and_columns:\n",
    "        print('Number of rows:', len(dataset))\n",
    "        print('Number of columns:', len(dataset[0]))"
   ]
  },
  {
   "cell_type": "markdown",
   "metadata": {},
   "source": [
    "**Loading the data sets**\n",
    "\n",
    "We then begin to load the data sets as lists of lists, using the functions (`open_as_list()` and `explore_data()`) that we defined earlier."
   ]
  },
  {
   "cell_type": "code",
   "execution_count": 3,
   "metadata": {},
   "outputs": [],
   "source": [
    "# Opening the csv files (with separate header)\n",
    "apple_header, apple = open_as_list('AppleStore.csv')\n",
    "google_header, google = open_as_list('googleplaystore.csv')"
   ]
  },
  {
   "cell_type": "code",
   "execution_count": 4,
   "metadata": {},
   "outputs": [
    {
     "name": "stdout",
     "output_type": "stream",
     "text": [
      "['1', '281656475', 'PAC-MAN Premium', '100788224', 'USD', '3.99', '21292', '26', '4', '4.5', '6.3.5', '4+', 'Games', '38', '5', '10', '1']\n",
      "\n",
      "\n",
      "['2', '281796108', 'Evernote - stay organized', '158578688', 'USD', '0', '161065', '26', '4', '3.5', '8.2.2', '4+', 'Productivity', '37', '5', '23', '1']\n",
      "\n",
      "\n",
      "['3', '281940292', 'WeatherBug - Local Weather, Radar, Maps, Alerts', '100524032', 'USD', '0', '188583', '2822', '3.5', '4.5', '5.0.0', '4+', 'Weather', '37', '5', '3', '1']\n",
      "\n",
      "\n",
      "Number of rows: 7197\n",
      "Number of columns: 17\n",
      "['Photo Editor & Candy Camera & Grid & ScrapBook', 'ART_AND_DESIGN', '4.1', '159', '19M', '10,000+', 'Free', '0', 'Everyone', 'Art & Design', 'January 7, 2018', '1.0.0', '4.0.3 and up']\n",
      "\n",
      "\n",
      "['Coloring book moana', 'ART_AND_DESIGN', '3.9', '967', '14M', '500,000+', 'Free', '0', 'Everyone', 'Art & Design;Pretend Play', 'January 15, 2018', '2.0.0', '4.0.3 and up']\n",
      "\n",
      "\n",
      "['U Launcher Lite – FREE Live Cool Themes, Hide Apps', 'ART_AND_DESIGN', '4.7', '87510', '8.7M', '5,000,000+', 'Free', '0', 'Everyone', 'Art & Design', 'August 1, 2018', '1.2.4', '4.0.3 and up']\n",
      "\n",
      "\n",
      "Number of rows: 10841\n",
      "Number of columns: 13\n"
     ]
    }
   ],
   "source": [
    "# Exploring the first few rows of the data sets using the explore_data() function\n",
    "explore_data(apple, 0, 3, rows_and_columns=True)\n",
    "explore_data(google, 0, 3, rows_and_columns=True)"
   ]
  },
  {
   "cell_type": "code",
   "execution_count": 5,
   "metadata": {},
   "outputs": [
    {
     "name": "stdout",
     "output_type": "stream",
     "text": [
      "['', 'id', 'track_name', 'size_bytes', 'currency', 'price', 'rating_count_tot', 'rating_count_ver', 'user_rating', 'user_rating_ver', 'ver', 'cont_rating', 'prime_genre', 'sup_devices.num', 'ipadSc_urls.num', 'lang.num', 'vpp_lic']\n",
      "\n",
      "\n",
      "['App', 'Category', 'Rating', 'Reviews', 'Size', 'Installs', 'Type', 'Price', 'Content Rating', 'Genres', 'Last Updated', 'Current Ver', 'Android Ver']\n"
     ]
    }
   ],
   "source": [
    "# Exploring the column headers\n",
    "print(apple_header)\n",
    "print('\\n')\n",
    "print(google_header)"
   ]
  },
  {
   "cell_type": "markdown",
   "metadata": {},
   "source": [
    "Documentation for the Apple Store data set is available in [this link](https://www.kaggle.com/ramamet4/app-store-apple-data-set-10k-apps) while the documentation for the Google Play Store data set is [available here](https://www.kaggle.com/lava18/google-play-store-apps)."
   ]
  },
  {
   "cell_type": "markdown",
   "metadata": {},
   "source": [
    "## Deleting Wrong Data (Row with Missing Data)\n",
    "Dataquest informs us that in the [discussion thread](https://www.kaggle.com/lava18/google-play-store-apps/discussion/66015) for the Google Play Store data set, there appears to be a row with missing data (column length is less than expected). We look for the index number of the problematic row in the following cell."
   ]
  },
  {
   "cell_type": "code",
   "execution_count": 6,
   "metadata": {},
   "outputs": [
    {
     "name": "stdout",
     "output_type": "stream",
     "text": [
      "['Life Made WI-Fi Touchscreen Photo Frame', '1.9', '19', '3.0M', '1,000+', 'Free', '0', 'Everyone', '', 'February 11, 2018', '1.0.19', '4.0 and up']\n",
      "\n",
      "\n",
      "Row with index number 10472 may have missing values\n",
      "\n",
      "\n",
      "[10472]\n",
      "1\n"
     ]
    }
   ],
   "source": [
    "# Looking for missing data in google play store data\n",
    "rows_with_miss = [] # initialize the list that will contain the index numbers of rows with missing data\n",
    "number_rows_miss = 0 # initialize integer that counts number of rows with missing data\n",
    "for row in google:\n",
    "    header_length = len(google_header)\n",
    "    row_length = len(row)\n",
    "    if row_length!= header_length:\n",
    "        print(row)\n",
    "        print('\\n')\n",
    "        print('Row with index number ' + str(google.index(row)) + ' may have missing values')\n",
    "        rows_with_miss.append(google.index(row))\n",
    "        number_rows_miss += 1\n",
    "print('\\n')\n",
    "print(rows_with_miss)\n",
    "print(number_rows_miss)"
   ]
  },
  {
   "cell_type": "markdown",
   "metadata": {},
   "source": [
    "We check the details of the problematic row(s) and compare it with the details contained in the header row to better understand what went wrong.\n",
    "\n",
    "If there are more rows with missing data, we can also automate this process with a for loop. We skip that part for now and proceed, knowing there is only one row with missing data."
   ]
  },
  {
   "cell_type": "code",
   "execution_count": 7,
   "metadata": {},
   "outputs": [
    {
     "name": "stdout",
     "output_type": "stream",
     "text": [
      "['App', 'Category', 'Rating', 'Reviews', 'Size', 'Installs', 'Type', 'Price', 'Content Rating', 'Genres', 'Last Updated', 'Current Ver', 'Android Ver']\n",
      "\n",
      "\n",
      "['Life Made WI-Fi Touchscreen Photo Frame', '1.9', '19', '3.0M', '1,000+', 'Free', '0', 'Everyone', '', 'February 11, 2018', '1.0.19', '4.0 and up']\n"
     ]
    }
   ],
   "source": [
    "# Checking the details of the problematic row\n",
    "print(google_header)\n",
    "print('\\n')\n",
    "print(google[10472])"
   ]
  },
  {
   "cell_type": "markdown",
   "metadata": {},
   "source": [
    "Category appears to be missing, it jumps straight to 1.9 instead of a string describing category. We now delete the problematic row. Again, we could also perform a for loop here if there are more rows with missing data."
   ]
  },
  {
   "cell_type": "code",
   "execution_count": 8,
   "metadata": {},
   "outputs": [],
   "source": [
    "# Deleting the problematic row, make sure this is ran only once\n",
    "del google[10472]"
   ]
  },
  {
   "cell_type": "markdown",
   "metadata": {},
   "source": [
    "# Removing Duplicate Entries (Google)\n",
    "Apparently, the Google Play Store data (the `google` data set) contains duplicate entries for some apps. Our next step is to identify the apps with duplicate entries."
   ]
  },
  {
   "cell_type": "code",
   "execution_count": 9,
   "metadata": {},
   "outputs": [
    {
     "name": "stdout",
     "output_type": "stream",
     "text": [
      "There are 9659 unique apps.\n",
      "There are 1181 duplicated apps.\n",
      "Here are some examples of duplicated apps: ['Quick PDF Scanner + OCR FREE', 'Box', 'Google My Business']\n"
     ]
    }
   ],
   "source": [
    "# Creating lists containing the duplicates and the unique app names\n",
    "google_unique = []\n",
    "google_duplicate = []\n",
    "\n",
    "for row in google:\n",
    "    app = row[0]\n",
    "    if app in google_unique:\n",
    "        google_duplicate.append(app)\n",
    "    else:\n",
    "        google_unique.append(app)\n",
    "\n",
    "# Checking how many apps are unique and how many are duplicated\n",
    "print('There are ' + str(len(google_unique)) + ' unique apps.')\n",
    "print('There are ' + str(len(google_duplicate)) + ' duplicated apps.')\n",
    "print('Here are some examples of duplicated apps: ' + str(google_duplicate[0:3]))"
   ]
  },
  {
   "cell_type": "markdown",
   "metadata": {},
   "source": [
    "We will not be deleting the duplicated apps right away. Instead, we will figure out how to deal with these. We can either (1) delete duplicates using some criteria or (2) we can retain one row for each unique app and just aggregate the numerical columns. We'll go with option 1 for this project.\n",
    "\n",
    "Our criteria would be to keep the row with the most number of reviews, with the assumption that it has the latest information since there are more reviews.\n",
    "\n",
    "We then create a dictionary with app names as keys and the highest number of reviews for that app as the values."
   ]
  },
  {
   "cell_type": "code",
   "execution_count": 10,
   "metadata": {},
   "outputs": [
    {
     "name": "stdout",
     "output_type": "stream",
     "text": [
      "9659\n",
      "[('Photo Editor & Candy Camera & Grid & ScrapBook', 159), ('Coloring book moana', 974), ('U Launcher Lite – FREE Live Cool Themes, Hide Apps', 87510)]\n"
     ]
    }
   ],
   "source": [
    "google_reviews_max = {}\n",
    "\n",
    "for app in google:\n",
    "    name = app[0]\n",
    "    n_reviews = int(app[3]) # Dataquest recommends converting to float but we convert to int since n_reviews are whole numbers\n",
    "    if (name in google_reviews_max) and (google_reviews_max[name] < n_reviews):\n",
    "        google_reviews_max[name] = n_reviews\n",
    "    if name not in google_reviews_max:\n",
    "        google_reviews_max[name] = n_reviews\n",
    "\n",
    "print(len(google_reviews_max)) # checking if reviews_max dictionary has the correct length (9659)\n",
    "print(list(google_reviews_max.items())[:3]) # checking the first few elements of the reviews_max dictionary"
   ]
  },
  {
   "cell_type": "markdown",
   "metadata": {},
   "source": [
    "Next, we use the dictionary we just created to retain only the rows we're interested in keeping (based on our criteria). For this step, we will be creating a new list of lists which we will name `google_clean`. This new data set should have no more duplicates."
   ]
  },
  {
   "cell_type": "code",
   "execution_count": 11,
   "metadata": {},
   "outputs": [
    {
     "name": "stdout",
     "output_type": "stream",
     "text": [
      "9659\n",
      "[['Photo Editor & Candy Camera & Grid & ScrapBook', 'ART_AND_DESIGN', '4.1', '159', '19M', '10,000+', 'Free', '0', 'Everyone', 'Art & Design', 'January 7, 2018', '1.0.0', '4.0.3 and up'], ['U Launcher Lite – FREE Live Cool Themes, Hide Apps', 'ART_AND_DESIGN', '4.7', '87510', '8.7M', '5,000,000+', 'Free', '0', 'Everyone', 'Art & Design', 'August 1, 2018', '1.2.4', '4.0.3 and up'], ['Sketch - Draw & Paint', 'ART_AND_DESIGN', '4.5', '215644', '25M', '50,000,000+', 'Free', '0', 'Teen', 'Art & Design', 'June 8, 2018', 'Varies with device', '4.2 and up']]\n"
     ]
    }
   ],
   "source": [
    "google_clean = []\n",
    "google_already_added = []\n",
    "\n",
    "for app in google:\n",
    "    name = app[0]\n",
    "    n_reviews = int(app[3])\n",
    "    if (n_reviews == google_reviews_max[name]) and (name not in google_already_added):\n",
    "        google_clean.append(app)\n",
    "        google_already_added.append(name)\n",
    "print(len(google_clean)) # checking if our new data set has the correct number of rows (9659)\n",
    "print(google_clean[:3]) # checking the first few entries of our 'cleaned' data set\n",
    "\n",
    "# We could also use the explore_data function to perform these checks\n",
    "# Upon reviewing some of the prior cells, it may be useful to define a function that will remove duplicate rows for us, we skip that for now."
   ]
  },
  {
   "cell_type": "markdown",
   "metadata": {},
   "source": [
    "Ideally, we do the same process for the Apple Store data set. The Dataquest prompts do not ask us to do so but we'll check anyway. This is also for consistency so we get to call the Apple Store data set `apple_clean` instead of just `apple` the same way we should now be using the `google_clean` data set."
   ]
  },
  {
   "cell_type": "markdown",
   "metadata": {},
   "source": [
    "# Removing Duplicate Entries (Apple)\n",
    "For the Apple Store data set, we will us the same criteria (most number of reviews). We could actually try retaining the row with the latest version or the most recently updated (although this info is not in our Apple data set) but we are not yet very familiar with dealing in comparing strings (e.g. 1.0.1 vs. 1.0.2) to be able to implement such conditions."
   ]
  },
  {
   "cell_type": "code",
   "execution_count": 12,
   "metadata": {},
   "outputs": [
    {
     "name": "stdout",
     "output_type": "stream",
     "text": [
      "There are 7195 unique apps.\n",
      "There are 2 duplicated apps.\n",
      "Here are some examples of duplicated apps: ['VR Roller Coaster', 'Mannequin Challenge']\n",
      "\n",
      "\n",
      "7195\n",
      "[('PAC-MAN Premium', 21292), ('Evernote - stay organized', 161065), ('WeatherBug - Local Weather, Radar, Maps, Alerts', 188583)]\n",
      "\n",
      "\n",
      "7195\n",
      "\n",
      "\n",
      "[['1', '281656475', 'PAC-MAN Premium', '100788224', 'USD', '3.99', '21292', '26', '4', '4.5', '6.3.5', '4+', 'Games', '38', '5', '10', '1'], ['2', '281796108', 'Evernote - stay organized', '158578688', 'USD', '0', '161065', '26', '4', '3.5', '8.2.2', '4+', 'Productivity', '37', '5', '23', '1']]\n"
     ]
    }
   ],
   "source": [
    "# Creating lists containing the duplicates and the unique app names\n",
    "apple_unique = []\n",
    "apple_duplicate = []\n",
    "\n",
    "for row in apple:\n",
    "    app = row[2]\n",
    "    if app in apple_unique:\n",
    "        apple_duplicate.append(app)\n",
    "    else:\n",
    "        apple_unique.append(app)\n",
    "\n",
    "# Checking how many apps are unique and how many are duplicated\n",
    "print('There are ' + str(len(apple_unique)) + ' unique apps.')\n",
    "print('There are ' + str(len(apple_duplicate)) + ' duplicated apps.')\n",
    "print('Here are some examples of duplicated apps: ' + str(apple_duplicate[0:3]))\n",
    "print('\\n')\n",
    "# Creating dictionary for max number of reviews\n",
    "apple_reviews_max = {}\n",
    "\n",
    "for app in apple:\n",
    "    name = app[2]\n",
    "    n_reviews = int(app[6]) # Dataquest recommends converting to float but we convert to int since n_reviews are whole numbers\n",
    "    if (name in apple_reviews_max) and (apple_reviews_max[name] < n_reviews):\n",
    "        apple_reviews_max[name] = n_reviews\n",
    "    if name not in apple_reviews_max:\n",
    "        apple_reviews_max[name] = n_reviews\n",
    "\n",
    "print(len(apple_reviews_max)) # checking if reviews_max dictionary has the correct length (9659)\n",
    "print(list(apple_reviews_max.items())[:3]) # checking the first few elements of the reviews_max dictionary\n",
    "print('\\n')\n",
    "\n",
    "# Creating the new apple_clean data set with duplicates removed\n",
    "apple_clean = []\n",
    "apple_already_added = []\n",
    "\n",
    "for app in apple:\n",
    "    name = app[2]\n",
    "    n_reviews = int(app[6])\n",
    "    if (n_reviews == apple_reviews_max[name]) and (name not in apple_already_added):\n",
    "        apple_clean.append(app)\n",
    "        apple_already_added.append(name)\n",
    "\n",
    "print(len(apple_clean)) # checking if our new data set has the correct number of rows (7195)\n",
    "print('\\n')\n",
    "print(apple_clean[:2]) # checking the first few entries of our 'cleaned' data set"
   ]
  },
  {
   "cell_type": "markdown",
   "metadata": {},
   "source": [
    "We're now done with removing duplicates for both data sets. It's a good thing that we did the extra work for the Apple data set, despite Dataquest not prompting us to do so, since there are apparently two duplicate entries."
   ]
  },
  {
   "cell_type": "markdown",
   "metadata": {},
   "source": [
    "## Removing Non-English Apps\n",
    "\n",
    "Since in this project, we are pretending to be working for a development team that only develops English apps, we must now remove apps not targeted towards English-speaking customers. This is important since we don't want to make any inferences from non-English apps since the people downloading those might have different preference profiles.\n",
    "\n",
    "We start by a defining a function that will help us systematically identify whether the app name has non-English characters. This means we want to tag apps with names that contain non-English characters or those with Unicode code point values greater than 127 (Dataquest explains that the common English characters have equivalents of 0-127)."
   ]
  },
  {
   "cell_type": "code",
   "execution_count": 13,
   "metadata": {},
   "outputs": [],
   "source": [
    "def english_app(text):\n",
    "    for character in text:\n",
    "        if ord(character) > 127:\n",
    "            return False # function stops and returns False if it finds a single instance of non=English character\n",
    "    return True"
   ]
  },
  {
   "cell_type": "markdown",
   "metadata": {},
   "source": [
    "We check whether our `english_app()` function works."
   ]
  },
  {
   "cell_type": "code",
   "execution_count": 14,
   "metadata": {},
   "outputs": [
    {
     "name": "stdout",
     "output_type": "stream",
     "text": [
      "True\n",
      "False\n",
      "False\n",
      "False\n"
     ]
    }
   ],
   "source": [
    "print(english_app('Instagram'))\n",
    "print(english_app('爱奇艺PPS -《欢乐颂2》电视剧热播'))\n",
    "print(english_app('Docs To Go™ Free Office Suit'))\n",
    "print(english_app('Instachat 😜'))"
   ]
  },
  {
   "cell_type": "markdown",
   "metadata": {},
   "source": [
    "While the `english_app()` appears to work fine, it does tag apps with names that use special characters (e.g. trademark, emojis, etc.) as non-English. We need to modify this so as to only tag apps as non-English if they have more than three 'non-English' characters in their names. We define a new function called `english_loose()`."
   ]
  },
  {
   "cell_type": "code",
   "execution_count": 15,
   "metadata": {},
   "outputs": [],
   "source": [
    "def english_loose(text):\n",
    "    non_english_chars = 0\n",
    "    for character in text:\n",
    "        if ord(character) > 127:\n",
    "            non_english_chars += 1\n",
    "    if non_english_chars > 3:\n",
    "        return False\n",
    "    else:\n",
    "        return True"
   ]
  },
  {
   "cell_type": "markdown",
   "metadata": {},
   "source": [
    "We check again whether our new function, `english_loose()` is working as intended. Note that while the filter is still not perfect, it should work better with compared to the stricter criteria in the `english_app()` function."
   ]
  },
  {
   "cell_type": "code",
   "execution_count": 16,
   "metadata": {},
   "outputs": [
    {
     "name": "stdout",
     "output_type": "stream",
     "text": [
      "True\n",
      "False\n",
      "True\n",
      "True\n"
     ]
    }
   ],
   "source": [
    "print(english_loose('Instagram'))\n",
    "print(english_loose('爱奇艺PPS -《欢乐颂2》电视剧热播'))\n",
    "print(english_loose('Docs To Go™ Free Office Suit'))\n",
    "print(english_loose('Instachat 😜'))"
   ]
  },
  {
   "cell_type": "markdown",
   "metadata": {},
   "source": [
    "We can now use the `english_loose()` function to filter out non-English apps from both data sets (`apple_clean` and `google_clean`). We will call our new data sets `apple_english` and `google_english`. There is no need to do this filtering for the headers (`apple_header` and `google_header`) since the information contained in those lists will remain valid for all the apps in their respective data sets."
   ]
  },
  {
   "cell_type": "code",
   "execution_count": 17,
   "metadata": {},
   "outputs": [
    {
     "name": "stdout",
     "output_type": "stream",
     "text": [
      "There are 6181 English apps in our Apple Store data set\n",
      "[['1', '281656475', 'PAC-MAN Premium', '100788224', 'USD', '3.99', '21292', '26', '4', '4.5', '6.3.5', '4+', 'Games', '38', '5', '10', '1'], ['2', '281796108', 'Evernote - stay organized', '158578688', 'USD', '0', '161065', '26', '4', '3.5', '8.2.2', '4+', 'Productivity', '37', '5', '23', '1'], ['3', '281940292', 'WeatherBug - Local Weather, Radar, Maps, Alerts', '100524032', 'USD', '0', '188583', '2822', '3.5', '4.5', '5.0.0', '4+', 'Weather', '37', '5', '3', '1']]\n",
      "\n",
      "\n",
      "There are 9614 English apps in our Google Store data set\n",
      "[['Photo Editor & Candy Camera & Grid & ScrapBook', 'ART_AND_DESIGN', '4.1', '159', '19M', '10,000+', 'Free', '0', 'Everyone', 'Art & Design', 'January 7, 2018', '1.0.0', '4.0.3 and up'], ['U Launcher Lite – FREE Live Cool Themes, Hide Apps', 'ART_AND_DESIGN', '4.7', '87510', '8.7M', '5,000,000+', 'Free', '0', 'Everyone', 'Art & Design', 'August 1, 2018', '1.2.4', '4.0.3 and up'], ['Sketch - Draw & Paint', 'ART_AND_DESIGN', '4.5', '215644', '25M', '50,000,000+', 'Free', '0', 'Teen', 'Art & Design', 'June 8, 2018', 'Varies with device', '4.2 and up']]\n"
     ]
    }
   ],
   "source": [
    "# Initialize empty lists\n",
    "apple_english = []\n",
    "google_english = []\n",
    "\n",
    "for app in apple_clean:\n",
    "    name = app[2] # name of app in apple data set is in index 2\n",
    "    english = english_loose(name)\n",
    "    if english:\n",
    "        apple_english.append(app)\n",
    "print('There are ' + str(len(apple_english)) + ' English apps in our Apple Store data set')\n",
    "print(apple_english[:3])\n",
    "print('\\n')\n",
    "\n",
    "for app in google_clean:\n",
    "    name = app[0] # name of app in apple data set is in index 2\n",
    "    english = english_loose(name)\n",
    "    if english:\n",
    "        google_english.append(app)\n",
    "\n",
    "print('There are ' + str(len(google_english)) + ' English apps in our Google Store data set')\n",
    "print(google_english[:3])"
   ]
  },
  {
   "cell_type": "markdown",
   "metadata": {},
   "source": [
    "## Isolating Free Apps\n",
    "\n",
    "Since we're only interested in free apps (our company gets its revenues from ads), we will need to remove apps that are not free. First, let's check the headers of our data sets to refresh our memory."
   ]
  },
  {
   "cell_type": "code",
   "execution_count": 18,
   "metadata": {},
   "outputs": [
    {
     "name": "stdout",
     "output_type": "stream",
     "text": [
      "Apple Store\n",
      "['', 'id', 'track_name', 'size_bytes', 'currency', 'price', 'rating_count_tot', 'rating_count_ver', 'user_rating', 'user_rating_ver', 'ver', 'cont_rating', 'prime_genre', 'sup_devices.num', 'ipadSc_urls.num', 'lang.num', 'vpp_lic']\n",
      "\n",
      "\n",
      "Google Store\n",
      "['App', 'Category', 'Rating', 'Reviews', 'Size', 'Installs', 'Type', 'Price', 'Content Rating', 'Genres', 'Last Updated', 'Current Ver', 'Android Ver']\n"
     ]
    }
   ],
   "source": [
    "print('Apple Store')\n",
    "print(apple_header)\n",
    "print('\\n')\n",
    "print('Google Store')\n",
    "print(google_header)"
   ]
  },
  {
   "cell_type": "markdown",
   "metadata": {},
   "source": [
    "We will now be creating our 'final' data sets."
   ]
  },
  {
   "cell_type": "code",
   "execution_count": 19,
   "metadata": {},
   "outputs": [
    {
     "name": "stdout",
     "output_type": "stream",
     "text": [
      "There are a total of 3220 free English apps in our Apple Store data set.\n",
      "There are a total of 8864 free English apps in our Google Store data set.\n"
     ]
    }
   ],
   "source": [
    "# Initializing empty lists\n",
    "apple_final = []\n",
    "google_final = []\n",
    "\n",
    "# Isolating free apps in Apple Store\n",
    "for app in apple_english:\n",
    "    price = app[5] # should ideally convert to float but returns error because of some special characters we still don't know how to deal with\n",
    "    if price == '0' or price == '0.0': # we just use different iterations of the strings zero instead\n",
    "        apple_final.append(app)\n",
    "\n",
    "# Isolating free apps in Google Store        \n",
    "for app in google_english:\n",
    "    price = app[7] # should ideally convert to float but returns error because of some special characters we still don't know how to deal with\n",
    "    if price == '0' or price == '0.0': # we just use different iterations of the strings zero instead\n",
    "        google_final.append(app)\n",
    "\n",
    "print('There are a total of ' + str(len(apple_final)) + ' free English apps in our Apple Store data set.')\n",
    "print('There are a total of ' + str(len(google_final)) + ' free English apps in our Google Store data set.')"
   ]
  },
  {
   "cell_type": "markdown",
   "metadata": {},
   "source": [
    "To review, here's what we've done so far with our two data sets:\n",
    "1. Removed rows with missing data\n",
    "2. Removed duplicate entries\n",
    "3. Removed non-English apps\n",
    "4. Isolated the free apps\n",
    "\n",
    "We can now begin some crude analysis for the purpose of this project."
   ]
  },
  {
   "cell_type": "markdown",
   "metadata": {},
   "source": [
    "## Most Common Apps by Genre\n",
    "\n",
    "Recall that the our hypothetical aim here is to identify the profile of apps that would be most profitable to develop. Dataquest provides us a list of the validation strategy to use in app development decision-making:\n",
    "1. Build a minimal Android version of the app, and add it to Google Play.\n",
    "2. If the app has a good response from users, we develop it further.\n",
    "3. If the app is profitable after six months, we build an iOS version of the app and add it to the App Store.\n",
    "\n",
    "Since the plan is to release apps for both Apple and Google stores, we will now look at the profiles of apps and try to figure out what would be most profitable (generates the most revenue through ads)"
   ]
  },
  {
   "cell_type": "code",
   "execution_count": 20,
   "metadata": {},
   "outputs": [
    {
     "name": "stdout",
     "output_type": "stream",
     "text": [
      "Apple\n"
     ]
    },
    {
     "data": {
      "text/plain": [
       "['',\n",
       " 'id',\n",
       " 'track_name',\n",
       " 'size_bytes',\n",
       " 'currency',\n",
       " 'price',\n",
       " 'rating_count_tot',\n",
       " 'rating_count_ver',\n",
       " 'user_rating',\n",
       " 'user_rating_ver',\n",
       " 'ver',\n",
       " 'cont_rating',\n",
       " 'prime_genre',\n",
       " 'sup_devices.num',\n",
       " 'ipadSc_urls.num',\n",
       " 'lang.num',\n",
       " 'vpp_lic']"
      ]
     },
     "metadata": {},
     "output_type": "display_data"
    },
    {
     "name": "stdout",
     "output_type": "stream",
     "text": [
      "\n",
      "\n",
      "Google\n"
     ]
    },
    {
     "data": {
      "text/plain": [
       "['App',\n",
       " 'Category',\n",
       " 'Rating',\n",
       " 'Reviews',\n",
       " 'Size',\n",
       " 'Installs',\n",
       " 'Type',\n",
       " 'Price',\n",
       " 'Content Rating',\n",
       " 'Genres',\n",
       " 'Last Updated',\n",
       " 'Current Ver',\n",
       " 'Android Ver']"
      ]
     },
     "metadata": {},
     "output_type": "display_data"
    }
   ],
   "source": [
    "# Checking the columns to see which ones we can use to generate frequency tables\n",
    "print('Apple')\n",
    "display(apple_header)\n",
    "print('\\n')\n",
    "print('Google')\n",
    "display(google_header)"
   ]
  },
  {
   "cell_type": "markdown",
   "metadata": {},
   "source": [
    "For the Apple Store, it may be interesting to look at `'size_bytes'`, `'rating_count_tot'`, `'user_rating'`, `'cont_rating'`, and `'prime_genre'`.\n",
    "\n",
    "For the Google Store, we may want to look at `'Category'`, `'Rating'`, `'Reviews'`, `'Size'`, `'Installs'`, `'Type'`, `'Content Rating'`, and `'Genres'`.\n",
    "\n",
    "For now, let's check what the most common genres are for the two stores, that information would be contained in the column `'prime_genre'` for Apple and `'Genres'` for Google."
   ]
  },
  {
   "cell_type": "code",
   "execution_count": 21,
   "metadata": {},
   "outputs": [
    {
     "name": "stdout",
     "output_type": "stream",
     "text": [
      "Apple genre index is 12\n",
      "Google category index is 1\n",
      "Google genre index is 9\n"
     ]
    }
   ],
   "source": [
    "# Getting the index numbers for genre and/or category\n",
    "apple_genre_index = apple_header.index('prime_genre')\n",
    "google_genre_index = google_header.index('Genres')\n",
    "google_category_index = google_header.index('Category')\n",
    "print('Apple genre index is ' + str(apple_genre_index))\n",
    "print('Google category index is ' + str(google_category_index))\n",
    "print('Google genre index is ' + str(google_genre_index))"
   ]
  },
  {
   "cell_type": "markdown",
   "metadata": {},
   "source": [
    "**Building Frequency Tables**\n",
    "\n",
    "We will now create functions that will help us generate frequency tables for our columns of choice."
   ]
  },
  {
   "cell_type": "code",
   "execution_count": 22,
   "metadata": {},
   "outputs": [],
   "source": [
    "# Function for generating frequency tables\n",
    "def freq_table(dataset, index):\n",
    "    frequency_table = {}\n",
    "    for row in dataset:\n",
    "        column = row[index]\n",
    "        if column in frequency_table:\n",
    "            frequency_table[column] += 1\n",
    "        else:\n",
    "            frequency_table[column] = 1\n",
    "    return frequency_table\n",
    "# no need to assign a variable in the main memory here because we're just going to use this function within the display_table function\n",
    "\n",
    "# This function was provided by Dataquest \n",
    "def display_table(dataset, index):\n",
    "    table = freq_table(dataset, index)\n",
    "    table_display = []\n",
    "    for key in table:\n",
    "        key_val_as_tuple = (table[key], key)\n",
    "        table_display.append(key_val_as_tuple)\n",
    "\n",
    "    table_sorted = sorted(table_display, reverse = True)\n",
    "    for entry in table_sorted:\n",
    "        print(entry[1], ':', entry[0])"
   ]
  },
  {
   "cell_type": "markdown",
   "metadata": {},
   "source": [
    "We now use the functions ,`display_table()` and `freq_table()`, we just created to see what categories or genres are most common."
   ]
  },
  {
   "cell_type": "code",
   "execution_count": 23,
   "metadata": {},
   "outputs": [
    {
     "name": "stdout",
     "output_type": "stream",
     "text": [
      "Apple Genres\n",
      "Games : 1872\n",
      "Entertainment : 254\n",
      "Photo & Video : 160\n",
      "Education : 118\n",
      "Social Networking : 106\n",
      "Shopping : 84\n",
      "Utilities : 81\n",
      "Sports : 69\n",
      "Music : 66\n",
      "Health & Fitness : 65\n",
      "Productivity : 56\n",
      "Lifestyle : 51\n",
      "News : 43\n",
      "Travel : 40\n",
      "Finance : 36\n",
      "Weather : 28\n",
      "Food & Drink : 26\n",
      "Reference : 18\n",
      "Business : 17\n",
      "Book : 14\n",
      "Navigation : 6\n",
      "Medical : 6\n",
      "Catalogs : 4\n",
      "\n",
      "\n",
      "Google Categories\n",
      "FAMILY : 1676\n",
      "GAME : 862\n",
      "TOOLS : 750\n",
      "BUSINESS : 407\n",
      "LIFESTYLE : 346\n",
      "PRODUCTIVITY : 345\n",
      "FINANCE : 328\n",
      "MEDICAL : 313\n",
      "SPORTS : 301\n",
      "PERSONALIZATION : 294\n",
      "COMMUNICATION : 287\n",
      "HEALTH_AND_FITNESS : 273\n",
      "PHOTOGRAPHY : 261\n",
      "NEWS_AND_MAGAZINES : 248\n",
      "SOCIAL : 236\n",
      "TRAVEL_AND_LOCAL : 207\n",
      "SHOPPING : 199\n",
      "BOOKS_AND_REFERENCE : 190\n",
      "DATING : 165\n",
      "VIDEO_PLAYERS : 159\n",
      "MAPS_AND_NAVIGATION : 124\n",
      "FOOD_AND_DRINK : 110\n",
      "EDUCATION : 103\n",
      "ENTERTAINMENT : 85\n",
      "LIBRARIES_AND_DEMO : 83\n",
      "AUTO_AND_VEHICLES : 82\n",
      "HOUSE_AND_HOME : 73\n",
      "WEATHER : 71\n",
      "EVENTS : 63\n",
      "PARENTING : 58\n",
      "ART_AND_DESIGN : 57\n",
      "COMICS : 55\n",
      "BEAUTY : 53\n",
      "\n",
      "\n",
      "Google Genres\n",
      "Tools : 749\n",
      "Entertainment : 538\n",
      "Education : 474\n",
      "Business : 407\n",
      "Productivity : 345\n",
      "Lifestyle : 345\n",
      "Finance : 328\n",
      "Medical : 313\n",
      "Sports : 307\n",
      "Personalization : 294\n",
      "Communication : 287\n",
      "Action : 275\n",
      "Health & Fitness : 273\n",
      "Photography : 261\n",
      "News & Magazines : 248\n",
      "Social : 236\n",
      "Travel & Local : 206\n",
      "Shopping : 199\n",
      "Books & Reference : 190\n",
      "Simulation : 181\n",
      "Dating : 165\n",
      "Arcade : 164\n",
      "Video Players & Editors : 157\n",
      "Casual : 156\n",
      "Maps & Navigation : 124\n",
      "Food & Drink : 110\n",
      "Puzzle : 100\n",
      "Racing : 88\n",
      "Role Playing : 83\n",
      "Libraries & Demo : 83\n",
      "Auto & Vehicles : 82\n",
      "Strategy : 81\n",
      "House & Home : 73\n",
      "Weather : 71\n",
      "Events : 63\n",
      "Adventure : 60\n",
      "Comics : 54\n",
      "Beauty : 53\n",
      "Art & Design : 53\n",
      "Parenting : 44\n",
      "Card : 40\n",
      "Casino : 38\n",
      "Trivia : 37\n",
      "Educational;Education : 35\n",
      "Board : 34\n",
      "Educational : 33\n",
      "Education;Education : 30\n",
      "Word : 23\n",
      "Casual;Pretend Play : 21\n",
      "Music : 18\n",
      "Racing;Action & Adventure : 15\n",
      "Puzzle;Brain Games : 15\n",
      "Entertainment;Music & Video : 15\n",
      "Casual;Brain Games : 12\n",
      "Casual;Action & Adventure : 12\n",
      "Arcade;Action & Adventure : 11\n",
      "Action;Action & Adventure : 9\n",
      "Educational;Pretend Play : 8\n",
      "Simulation;Action & Adventure : 7\n",
      "Parenting;Education : 7\n",
      "Entertainment;Brain Games : 7\n",
      "Board;Brain Games : 7\n",
      "Parenting;Music & Video : 6\n",
      "Educational;Brain Games : 6\n",
      "Casual;Creativity : 6\n",
      "Art & Design;Creativity : 6\n",
      "Education;Pretend Play : 5\n",
      "Role Playing;Pretend Play : 4\n",
      "Education;Creativity : 4\n",
      "Role Playing;Action & Adventure : 3\n",
      "Puzzle;Action & Adventure : 3\n",
      "Entertainment;Creativity : 3\n",
      "Entertainment;Action & Adventure : 3\n",
      "Educational;Creativity : 3\n",
      "Educational;Action & Adventure : 3\n",
      "Education;Music & Video : 3\n",
      "Education;Brain Games : 3\n",
      "Education;Action & Adventure : 3\n",
      "Adventure;Action & Adventure : 3\n",
      "Video Players & Editors;Music & Video : 2\n",
      "Sports;Action & Adventure : 2\n",
      "Simulation;Pretend Play : 2\n",
      "Puzzle;Creativity : 2\n",
      "Music;Music & Video : 2\n",
      "Entertainment;Pretend Play : 2\n",
      "Casual;Education : 2\n",
      "Board;Action & Adventure : 2\n",
      "Video Players & Editors;Creativity : 1\n",
      "Trivia;Education : 1\n",
      "Travel & Local;Action & Adventure : 1\n",
      "Tools;Education : 1\n",
      "Strategy;Education : 1\n",
      "Strategy;Creativity : 1\n",
      "Strategy;Action & Adventure : 1\n",
      "Simulation;Education : 1\n",
      "Role Playing;Brain Games : 1\n",
      "Racing;Pretend Play : 1\n",
      "Puzzle;Education : 1\n",
      "Parenting;Brain Games : 1\n",
      "Music & Audio;Music & Video : 1\n",
      "Lifestyle;Pretend Play : 1\n",
      "Lifestyle;Education : 1\n",
      "Health & Fitness;Education : 1\n",
      "Health & Fitness;Action & Adventure : 1\n",
      "Entertainment;Education : 1\n",
      "Communication;Creativity : 1\n",
      "Comics;Creativity : 1\n",
      "Casual;Music & Video : 1\n",
      "Card;Action & Adventure : 1\n",
      "Books & Reference;Education : 1\n",
      "Art & Design;Pretend Play : 1\n",
      "Art & Design;Action & Adventure : 1\n",
      "Arcade;Pretend Play : 1\n",
      "Adventure;Education : 1\n"
     ]
    }
   ],
   "source": [
    "print('Apple Genres')\n",
    "display_table(apple_final, 12)\n",
    "print('\\n')\n",
    "print('Google Categories')\n",
    "display_table(google_final, 1)\n",
    "print('\\n')\n",
    "print('Google Genres')\n",
    "display_table(google_final, 9)"
   ]
  },
  {
   "cell_type": "markdown",
   "metadata": {},
   "source": [
    "Looking at the App Store frequency table, we see that the most common genre are Games (1,872) followed far behind by Entertainment (254), Photo & Video(160), and Education (118). It appears that the most common apps are those for entertainment rather than for productivity.\n",
    "\n",
    "While it is not a foregone conclusion, the large number of games and entertainment apps that are free could mean that developers are flocking that genre because of the larger number of users for those types of apps. However, we may want to develop apps that have a somewhat large number of users but with fewer competing apps. For example, 'gamified' education apps is a possibility.\n",
    "\n",
    "For the Google Store, we look at the genres and categories. We see that the Top 5 genres/categories for the stores are as follows:\n",
    "\n",
    "Category - Family (1676), Game (862), Tools (750), Business (407) , Lifestyle (346)\n",
    "\n",
    "Genre - Tools (749), Entertainment (538), Education (474), Business (407), Productivity (345)\n",
    "\n",
    "The distribution of app categories/genres in the Google Store is more balanced between entertainment/fun and practical apps."
   ]
  },
  {
   "cell_type": "markdown",
   "metadata": {},
   "source": [
    "## Most Popular Apps by Genre\n",
    "\n",
    "We now check which apps are most popular based on the number of users. For the Apple Store, this data is not available but we can use the number of ratings, `rating_count_tot`, as a proxy (the more ratings, the more users). For the Google Store, the `Installs` column will give us an idea of how many users there are per genre.\n",
    "\n",
    "**Apple**"
   ]
  },
  {
   "cell_type": "code",
   "execution_count": 24,
   "metadata": {},
   "outputs": [
    {
     "name": "stdout",
     "output_type": "stream",
     "text": [
      "['', 'id', 'track_name', 'size_bytes', 'currency', 'price', 'rating_count_tot', 'rating_count_ver', 'user_rating', 'user_rating_ver', 'ver', 'cont_rating', 'prime_genre', 'sup_devices.num', 'ipadSc_urls.num', 'lang.num', 'vpp_lic']\n"
     ]
    }
   ],
   "source": [
    "print(apple_header)"
   ]
  },
  {
   "cell_type": "code",
   "execution_count": 25,
   "metadata": {},
   "outputs": [
    {
     "name": "stdout",
     "output_type": "stream",
     "text": [
      "Productivity : 21028.410714285714\n",
      "Weather : 52279.892857142855\n",
      "Shopping : 26919.690476190477\n",
      "Reference : 74942.11111111111\n",
      "Finance : 31467.944444444445\n",
      "Music : 57326.530303030304\n",
      "Utilities : 18684.456790123455\n",
      "Travel : 28243.8\n",
      "Social Networking : 71548.34905660378\n",
      "Sports : 23008.898550724636\n",
      "Health & Fitness : 23298.015384615384\n",
      "Games : 22812.92467948718\n",
      "Food & Drink : 33333.92307692308\n",
      "News : 21248.023255813954\n",
      "Book : 39758.5\n",
      "Photo & Video : 28441.54375\n",
      "Entertainment : 14029.830708661417\n",
      "Business : 7491.117647058823\n",
      "Lifestyle : 16485.764705882353\n",
      "Education : 7003.983050847458\n",
      "Navigation : 86090.33333333333\n",
      "Medical : 612.0\n",
      "Catalogs : 4004.0\n",
      "\n",
      "\n",
      "[('Medical', 612.0), ('Catalogs', 4004.0), ('Education', 7003.983050847458), ('Business', 7491.117647058823), ('Entertainment', 14029.830708661417), ('Lifestyle', 16485.764705882353), ('Utilities', 18684.456790123455), ('Productivity', 21028.410714285714), ('News', 21248.023255813954), ('Games', 22812.92467948718), ('Sports', 23008.898550724636), ('Health & Fitness', 23298.015384615384), ('Shopping', 26919.690476190477), ('Travel', 28243.8), ('Photo & Video', 28441.54375), ('Finance', 31467.944444444445), ('Food & Drink', 33333.92307692308), ('Book', 39758.5), ('Weather', 52279.892857142855), ('Music', 57326.530303030304), ('Social Networking', 71548.34905660378), ('Reference', 74942.11111111111), ('Navigation', 86090.33333333333)]\n"
     ]
    }
   ],
   "source": [
    "# Apple Store\n",
    "apple_unique_genres = freq_table(apple_final, 12)\n",
    "\n",
    "for genre in apple_unique_genres:\n",
    "    total = 0\n",
    "    len_genre = 0\n",
    "    for app in apple_final:\n",
    "        genre_app = app[12]\n",
    "        if genre_app == genre:\n",
    "            n_ratings = int(app[6])\n",
    "            total += n_ratings\n",
    "            len_genre += 1\n",
    "    avg_n_ratings = total / len_genre\n",
    "    print(genre + ' : ' + str(avg_n_ratings))\n",
    "\n",
    "# In the same vein, we can create a dictionary instead\n",
    "apple_genres_avg_n_ratings = {} # initializing empty dictionary\n",
    "for genre in apple_unique_genres:\n",
    "    total = 0\n",
    "    len_genre = 0\n",
    "    for app in apple_final:\n",
    "        genre_app = app[12]\n",
    "        if  genre_app == genre:\n",
    "            n_ratings = int(app[6])\n",
    "            total += n_ratings\n",
    "            len_genre += 1\n",
    "    avg_n_ratings = total / len_genre\n",
    "    apple_genres_avg_n_ratings[genre] = avg_n_ratings\n",
    "\n",
    "# We try to display the genres from lowest to highest average number of reviews\n",
    "print('\\n')\n",
    "print(sorted(apple_genres_avg_n_ratings.items(), key = lambda kv:(kv[1], kv[0]))) # not yet sure how this works, we copied this code from the internet"
   ]
  },
  {
   "cell_type": "markdown",
   "metadata": {},
   "source": [
    "We see that Navigation, Reference, and Social Networking have the highest number of reviews. We suspect that these numbers are being pulled up by very popular apps (which makes it more difficult for our company to attract customers into these types of apps). For example, GoogleMaps and Waze for navigation; Facebook for Social Networking; and Wikipedia for Reference.\n",
    "\n",
    "Let's try to verify that in the next cell."
   ]
  },
  {
   "cell_type": "code",
   "execution_count": 26,
   "metadata": {},
   "outputs": [
    {
     "name": "stdout",
     "output_type": "stream",
     "text": [
      "Navigation\n",
      "Waze - GPS Navigation, Maps & Real-time Traffic : 345046\n",
      "Google Maps - Navigation & Transit : 154911\n",
      "\n",
      "\n",
      "Reference\n",
      "Bible : 985920\n",
      "Dictionary.com Dictionary & Thesaurus : 200047\n",
      "\n",
      "\n",
      "Social Networking\n",
      "Facebook : 2974676\n",
      "Skype for iPhone : 373519\n",
      "Tumblr : 334293\n",
      "WhatsApp Messenger : 287589\n",
      "TextNow - Unlimited Text + Calls : 164963\n",
      "Kik : 260965\n",
      "Viber Messenger – Text & Call : 164249\n",
      "ooVoo – Free Video Call, Text and Voice : 177501\n",
      "Pinterest : 1061624\n",
      "Messenger : 351466\n",
      "Followers - Social Analytics For Instagram : 112778\n"
     ]
    }
   ],
   "source": [
    "print('Navigation')\n",
    "for app in apple_final:\n",
    "    if app[12] == 'Navigation' and (int(app[6]) > 100000):\n",
    "        print(app[2], ':', app[6])\n",
    "\n",
    "print('\\n')\n",
    "print('Reference')\n",
    "for app in apple_final:\n",
    "    if app[12] == 'Reference' and (int(app[6]) > 100000):\n",
    "        print(app[2], ':', app[6])\n",
    "\n",
    "print('\\n')        \n",
    "print('Social Networking')        \n",
    "for app in apple_final:\n",
    "    if app[12] == 'Social Networking' and (int(app[6]) > 100000):\n",
    "        print(app[2], ':', app[6])\n"
   ]
  },
  {
   "cell_type": "markdown",
   "metadata": {},
   "source": [
    "We confirm our suspicions that the average number of reviews (which is our proxy for average number of users) for the top 3 categories are being pulled up by a small number extremely popular apps. The same is most likely true for Music (Spotify, Pandora) and Weather (Weather, Accuweather), and Book (Kindle, Audible).\n",
    "\n",
    "Unless we want to develop the less popular app categories (with fewer reviews), we'll just have to try to compete with bigger players. There appears to be some promise for Reference, Book, Photo & Video, and Travel. These types of apps don't really require physical presence or services and can be developed by a small development team."
   ]
  },
  {
   "cell_type": "markdown",
   "metadata": {},
   "source": [
    "**Google**\n",
    "\n",
    "For Google Play Store, we have information on number of installs but they are stored as strings and indicate ranges. For now, let's convert them into numbers (floats or integers) using a crude process as described by Dataquest where we just assume that the open-ended strings represent the actual number of reviews. This means that apps with installs of '10,000+' will be assumed to have 10,000 installs , '100,000+' to have 100,000, and so on. Note that we could actually get the median value within the range instead but let's follow the recommended process in the Dataquest prompt."
   ]
  },
  {
   "cell_type": "code",
   "execution_count": 27,
   "metadata": {},
   "outputs": [
    {
     "name": "stdout",
     "output_type": "stream",
     "text": [
      "['App', 'Category', 'Rating', 'Reviews', 'Size', 'Installs', 'Type', 'Price', 'Content Rating', 'Genres', 'Last Updated', 'Current Ver', 'Android Ver']\n"
     ]
    }
   ],
   "source": [
    "print(google_header)"
   ]
  },
  {
   "cell_type": "code",
   "execution_count": 28,
   "metadata": {},
   "outputs": [
    {
     "name": "stdout",
     "output_type": "stream",
     "text": [
      "ART_AND_DESIGN : 1986335.0877192982\n",
      "AUTO_AND_VEHICLES : 647317.8170731707\n",
      "BEAUTY : 513151.88679245283\n",
      "BOOKS_AND_REFERENCE : 8767811.894736841\n",
      "BUSINESS : 1712290.1474201474\n",
      "COMICS : 817657.2727272727\n",
      "COMMUNICATION : 38456119.167247385\n",
      "DATING : 854028.8303030303\n",
      "EDUCATION : 1833495.145631068\n",
      "ENTERTAINMENT : 11640705.88235294\n",
      "EVENTS : 253542.22222222222\n",
      "FINANCE : 1387692.475609756\n",
      "FOOD_AND_DRINK : 1924897.7363636363\n",
      "HEALTH_AND_FITNESS : 4188821.9853479853\n",
      "HOUSE_AND_HOME : 1331540.5616438356\n",
      "LIBRARIES_AND_DEMO : 638503.734939759\n",
      "LIFESTYLE : 1437816.2687861272\n",
      "GAME : 15588015.603248259\n",
      "FAMILY : 3695641.8198090694\n",
      "MEDICAL : 120550.61980830671\n",
      "SOCIAL : 23253652.127118643\n",
      "SHOPPING : 7036877.311557789\n",
      "PHOTOGRAPHY : 17840110.40229885\n",
      "SPORTS : 3638640.1428571427\n",
      "TRAVEL_AND_LOCAL : 13984077.710144928\n",
      "TOOLS : 10801391.298666667\n",
      "PERSONALIZATION : 5201482.6122448975\n",
      "PRODUCTIVITY : 16787331.344927534\n",
      "PARENTING : 542603.6206896552\n",
      "WEATHER : 5074486.197183099\n",
      "VIDEO_PLAYERS : 24727872.452830188\n",
      "NEWS_AND_MAGAZINES : 9549178.467741935\n",
      "MAPS_AND_NAVIGATION : 4056941.7741935486\n",
      "\n",
      "\n",
      "[('MEDICAL', 120550.61980830671), ('EVENTS', 253542.22222222222), ('BEAUTY', 513151.88679245283), ('PARENTING', 542603.6206896552), ('LIBRARIES_AND_DEMO', 638503.734939759), ('AUTO_AND_VEHICLES', 647317.8170731707), ('COMICS', 817657.2727272727), ('DATING', 854028.8303030303), ('HOUSE_AND_HOME', 1331540.5616438356), ('FINANCE', 1387692.475609756), ('LIFESTYLE', 1437816.2687861272), ('BUSINESS', 1712290.1474201474), ('EDUCATION', 1833495.145631068), ('FOOD_AND_DRINK', 1924897.7363636363), ('ART_AND_DESIGN', 1986335.0877192982), ('SPORTS', 3638640.1428571427), ('FAMILY', 3695641.8198090694), ('MAPS_AND_NAVIGATION', 4056941.7741935486), ('HEALTH_AND_FITNESS', 4188821.9853479853), ('WEATHER', 5074486.197183099), ('PERSONALIZATION', 5201482.6122448975), ('SHOPPING', 7036877.311557789), ('BOOKS_AND_REFERENCE', 8767811.894736841), ('NEWS_AND_MAGAZINES', 9549178.467741935), ('TOOLS', 10801391.298666667), ('ENTERTAINMENT', 11640705.88235294), ('TRAVEL_AND_LOCAL', 13984077.710144928), ('GAME', 15588015.603248259), ('PRODUCTIVITY', 16787331.344927534), ('PHOTOGRAPHY', 17840110.40229885), ('SOCIAL', 23253652.127118643), ('VIDEO_PLAYERS', 24727872.452830188), ('COMMUNICATION', 38456119.167247385)]\n"
     ]
    }
   ],
   "source": [
    "google_unique_categories = freq_table(google_final, 1)\n",
    "\n",
    "for category in google_unique_categories:\n",
    "    total = 0\n",
    "    len_category = 0\n",
    "    for app in google_final:\n",
    "        category_app = app[1]\n",
    "        if category_app == category:\n",
    "            n_installs = app[5]\n",
    "            n_installs = n_installs.replace('+', '')\n",
    "            n_installs = n_installs.replace(',', '')\n",
    "            n_installs = int(n_installs)\n",
    "            total += n_installs\n",
    "            len_category += 1\n",
    "    avg_n_installs = total / len_category\n",
    "    print(category, ':', avg_n_installs)\n",
    "\n",
    "# Again, we can create a dictionary\n",
    "google_cat_avg_n_installs = {} # initializing empty dictionary\n",
    "for category in google_unique_categories:\n",
    "    total = 0\n",
    "    len_category = 0\n",
    "    for app in google_final:\n",
    "        category_app = app[1]\n",
    "        if  category_app == category:\n",
    "            n_installs = app[5]\n",
    "            n_installs = n_installs.replace('+', '')\n",
    "            n_installs = n_installs.replace(',', '')\n",
    "            n_installs = int(n_installs)\n",
    "            total += n_installs\n",
    "            len_category += 1\n",
    "    avg_n_installs = total / len_category\n",
    "    google_cat_avg_n_installs[category] = avg_n_installs\n",
    "\n",
    "# We try to display the genres from lowest to highest average number of reviews\n",
    "print('\\n')\n",
    "print(sorted(google_cat_avg_n_installs.items(), key = lambda kv:(kv[1], kv[0]))) # not yet sure how this works, we copied this code from the internet"
   ]
  },
  {
   "cell_type": "markdown",
   "metadata": {},
   "source": [
    "The categories in the Google Store with the highest number of average installs are Communication, Video_Players, Social, Photography, and Productivity. Similar to the Apple Store, it is most likely that these numbers are being pulled up by very popular apps. Let's check."
   ]
  },
  {
   "cell_type": "code",
   "execution_count": 29,
   "metadata": {},
   "outputs": [
    {
     "name": "stdout",
     "output_type": "stream",
     "text": [
      "VIDEO_PLAYERS\n",
      "YouTube : 1,000,000,000+\n",
      "Google Play Movies & TV : 1,000,000,000+\n",
      "MX Player : 500,000,000+\n",
      "\n",
      "\n",
      "COMMUNICATION\n",
      "WhatsApp Messenger : 1,000,000,000+\n",
      "Google Duo - High Quality Video Calls : 500,000,000+\n",
      "Messenger – Text and Video Chat for Free : 1,000,000,000+\n",
      "imo free video calls and chat : 500,000,000+\n",
      "Skype - free IM & video calls : 1,000,000,000+\n",
      "LINE: Free Calls & Messages : 500,000,000+\n",
      "Google Chrome: Fast & Secure : 1,000,000,000+\n",
      "UC Browser - Fast Download Private & Secure : 500,000,000+\n",
      "Gmail : 1,000,000,000+\n",
      "Hangouts : 1,000,000,000+\n",
      "Viber Messenger : 500,000,000+\n"
     ]
    }
   ],
   "source": [
    "print('VIDEO_PLAYERS')\n",
    "for app in google_final:\n",
    "    if (app[1] == 'VIDEO_PLAYERS') and (app[5] == '1,000,000,000+' or app[5] == '500,000,000+'):\n",
    "        print(app[0], ':', app[5])\n",
    "\n",
    "print('\\n')\n",
    "print('COMMUNICATION')\n",
    "for app in google_final:\n",
    "    if app[1] == 'COMMUNICATION' and (app[5] == '1,000,000,000+' or app[5] == '500,000,000+'):\n",
    "        print(app[0], ':', app[5])"
   ]
  },
  {
   "cell_type": "markdown",
   "metadata": {},
   "source": [
    "The same pattern of a few extremely popular apps inflating the average number of users per category can be seen in the Google Store. We have YouTube for Video Players and Google Chrome, WhatsApp, and Messenger for Communication.\n",
    "\n",
    "Since we were considering some sort of gamified or interactive references or books for the Apple Store, let's check what the books_and_references and games category in Google Store look like."
   ]
  },
  {
   "cell_type": "code",
   "execution_count": 30,
   "metadata": {},
   "outputs": [
    {
     "name": "stdout",
     "output_type": "stream",
     "text": [
      "\n",
      "\n",
      "BOOKS_AND_REFERENCE\n",
      "Wikipedia : 10,000,000+\n",
      "Cool Reader : 10,000,000+\n",
      "FBReader: Favorite Book Reader : 10,000,000+\n",
      "Google Play Books : 1,000,000,000+\n",
      "HTC Help : 10,000,000+\n",
      "Moon+ Reader : 10,000,000+\n",
      "Bible : 100,000,000+\n",
      "Amazon Kindle : 100,000,000+\n",
      "Aldiko Book Reader : 10,000,000+\n",
      "Wattpad 📖 Free Books : 100,000,000+\n",
      "Al-Quran (Free) : 10,000,000+\n",
      "Al Quran Indonesia : 10,000,000+\n",
      "Al'Quran Bahasa Indonesia : 10,000,000+\n",
      "Quran for Android : 10,000,000+\n",
      "Audiobooks from Audible : 100,000,000+\n",
      "Dictionary.com: Find Definitions for English Words : 10,000,000+\n",
      "English Dictionary - Offline : 10,000,000+\n",
      "NOOK: Read eBooks & Magazines : 10,000,000+\n",
      "Dictionary : 10,000,000+\n",
      "Spanish English Translator : 10,000,000+\n",
      "Dictionary - Merriam-Webster : 10,000,000+\n",
      "JW Library : 10,000,000+\n",
      "Oxford Dictionary of English : Free : 10,000,000+\n",
      "English Hindi Dictionary : 10,000,000+\n",
      "\n",
      "\n",
      "GAME\n",
      "Sonic Dash : 100,000,000+\n",
      "PAC-MAN : 100,000,000+\n",
      "Roll the Ball® - slide puzzle : 100,000,000+\n",
      "Piano Tiles 2™ : 100,000,000+\n",
      "Pokémon GO : 100,000,000+\n",
      "Extreme Car Driving Simulator : 100,000,000+\n",
      "Trivia Crack : 100,000,000+\n",
      "Angry Birds 2 : 100,000,000+\n",
      "Candy Crush Saga : 500,000,000+\n",
      "8 Ball Pool : 100,000,000+\n",
      "Subway Surfers : 1,000,000,000+\n",
      "Candy Crush Soda Saga : 100,000,000+\n",
      "Clash Royale : 100,000,000+\n",
      "Clash of Clans : 100,000,000+\n",
      "Plants vs. Zombies FREE : 100,000,000+\n",
      "Pou : 500,000,000+\n",
      "Flow Free : 100,000,000+\n",
      "My Talking Angela : 100,000,000+\n",
      "slither.io : 100,000,000+\n",
      "Cooking Fever : 100,000,000+\n",
      "Yes day : 100,000,000+\n",
      "Score! Hero : 100,000,000+\n",
      "Dream League Soccer 2018 : 100,000,000+\n",
      "My Talking Tom : 500,000,000+\n",
      "Sniper 3D Gun Shooter: Free Shooting Games - FPS : 100,000,000+\n",
      "Zombie Tsunami : 100,000,000+\n",
      "Helix Jump : 100,000,000+\n",
      "Crossy Road : 100,000,000+\n",
      "Temple Run 2 : 500,000,000+\n",
      "Talking Tom Gold Run : 100,000,000+\n",
      "Agar.io : 100,000,000+\n",
      "Bus Rush: Subway Edition : 100,000,000+\n",
      "Traffic Racer : 100,000,000+\n",
      "Hill Climb Racing : 100,000,000+\n",
      "Angry Birds Rio : 100,000,000+\n",
      "Cut the Rope FULL FREE : 100,000,000+\n",
      "Hungry Shark Evolution : 100,000,000+\n",
      "Angry Birds Classic : 100,000,000+\n",
      "Hill Climb Racing 2 : 100,000,000+\n",
      "Jetpack Joyride : 100,000,000+\n",
      "Super Mario Run : 100,000,000+\n",
      "Glow Hockey : 100,000,000+\n",
      "Asphalt 8: Airborne : 100,000,000+\n",
      "Lep's World 2 🍀🍀 : 100,000,000+\n",
      "Fruit Ninja® : 100,000,000+\n",
      "Vector : 100,000,000+\n",
      "Dr. Driving : 100,000,000+\n",
      "Bike Race Free - Top Motorcycle Racing Games : 100,000,000+\n",
      "Smash Hit : 100,000,000+\n",
      "Temple Run : 100,000,000+\n",
      "Geometry Dash Lite : 100,000,000+\n",
      "Ant Smasher by Best Cool & Fun Games : 100,000,000+\n",
      "Angry Birds Star Wars : 100,000,000+\n",
      "Mobile Legends: Bang Bang : 100,000,000+\n",
      "Banana Kong : 100,000,000+\n",
      "Skater Boy : 100,000,000+\n",
      "Shadow Fight 2 : 100,000,000+\n",
      "Modern Combat 5: eSports FPS : 100,000,000+\n",
      "Garena Free Fire : 100,000,000+\n"
     ]
    }
   ],
   "source": [
    "print('\\n')\n",
    "print('BOOKS_AND_REFERENCE')\n",
    "for app in google_final:\n",
    "    if app[1] == 'BOOKS_AND_REFERENCE' and (app[5] == '1,000,000,000+' \n",
    "                                            or app[5] == '500,000,000+' \n",
    "                                           or app[5] == '100,000,000+'\n",
    "                                           or app[5] == '10,000,000+'):\n",
    "        print(app[0], ':', app[5])\n",
    "        \n",
    "print('\\n')\n",
    "print('GAME')\n",
    "for app in google_final:\n",
    "    if app[1] == 'GAME' and (app[5] == '1,000,000,000+' \n",
    "                                            or app[5] == '500,000,000+' \n",
    "                                           or app[5] == '100,000,000+'):\n",
    "        print(app[0], ':', app[5])"
   ]
  },
  {
   "cell_type": "markdown",
   "metadata": {},
   "source": [
    "Dictionaries, e-book readers, and religious text references appear to be the most popular. On the other hand, casual games appear to dominate the Game category."
   ]
  },
  {
   "cell_type": "markdown",
   "metadata": {},
   "source": [
    "## Conclusion\n",
    "\n",
    "The analysis in this project was to identify the type of app we would recommend developing if the business model is to attract users and earn revenues through ads. There appears to be no clear answer but references or educational apps that are interactive or 'gamified' seem to hold some promise. We can develop primary-school level reference materials (nursery rhymes, short stories) that are interactive which means we could add simple mini-games (word matching, fill in the blanks, image matching) that grant the user some experience points of some sort.\n",
    "\n",
    "For the more mature demographic, we could create an app that recommends books or movies based on what the user indicates to be the movies or books he likes. The app can contain some basic information on movies and books."
   ]
  }
 ],
 "metadata": {
  "kernelspec": {
   "display_name": "Python 3",
   "language": "python",
   "name": "python3"
  },
  "language_info": {
   "codemirror_mode": {
    "name": "ipython",
    "version": 3
   },
   "file_extension": ".py",
   "mimetype": "text/x-python",
   "name": "python",
   "nbconvert_exporter": "python",
   "pygments_lexer": "ipython3",
   "version": "3.8.8"
  }
 },
 "nbformat": 4,
 "nbformat_minor": 4
}

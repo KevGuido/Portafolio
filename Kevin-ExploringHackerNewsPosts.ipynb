{
 "cells": [
  {
   "cell_type": "markdown",
   "id": "259eda1c",
   "metadata": {},
   "source": [
    "# Finding Perfect Time for Posting to Get More Comments.\n",
    "In this project, we'll work with a dataset of submissions to popular technology site [Hacker News](https://news.ycombinator.com/).\n",
    "Hacker News is a site started by the startup incubator [Y Combinator](https://www.ycombinator.com/), where user-submitted stories (known as \"posts\") receive votes and comments, similar to reddit. Hacker News is extremely popular in technology and startup circles, and posts that make it to the top of the Hacker News listings can get hundreds of thousands of visitors as a result.\n",
    "\n",
    "You can find the data set [here](https://www.kaggle.com/hacker-news/hacker-news-posts), it contains almost 300,000 rows. Below are descriptions of the columns:\n",
    "\n",
    "- **id**: the unique identifier from Hacker News for the post\n",
    "- **title**: the title of the post\n",
    "- **url**: the URL that the posts links to, if the post has a URL\n",
    "- **num_points**: the number of points the post acquired, calculated as the total number of upvotes minus the total number of downvotes\n",
    "- **num_comments**: the number of comments on the post\n",
    "- **author**: the username of the person who submitted the post\n",
    "- **created_at**: the date and time of the post's submission\n",
    "\n",
    "We're specifically interested in posts with titles that begin with either **Ask HN** or **Show HN**. Users submit Ask HN posts to ask the Hacker News community a specific question. Likewise, users submit Show HN posts to show the Hacker News community a project, product, or just something interesting. \n",
    "We'll compare these two types of posts to determine the following:\n",
    "\n",
    "- Do **Ask HN** or **Show HN** receive more comments on average?\n",
    "- Do posts created at a certain time receive more comments on average?\n",
    "\n",
    "Let's start by importing the libraries we need and reading the dataset into a list of lists `hn_data` and demonstrate first 5 rows."
   ]
  },
  {
   "cell_type": "markdown",
   "id": "d9d6e61b",
   "metadata": {},
   "source": [
    "## Cleaning data"
   ]
  },
  {
   "cell_type": "code",
   "execution_count": 2,
   "id": "f12b61ad",
   "metadata": {},
   "outputs": [
    {
     "name": "stdout",
     "output_type": "stream",
     "text": [
      "['id', 'title', 'url', 'num_points', 'num_comments', 'author', 'created_at']\n",
      "\n",
      "\n",
      "['12579008', 'You have two days to comment if you want stem cells to be classified as your own', 'http://www.regulations.gov/document?D=FDA-2015-D-3719-0018', '1', '0', 'altstar', '9/26/2016 3:26']\n",
      "\n",
      "\n",
      "['12579005', 'SQLAR  the SQLite Archiver', 'https://www.sqlite.org/sqlar/doc/trunk/README.md', '1', '0', 'blacksqr', '9/26/2016 3:24']\n",
      "\n",
      "\n",
      "['12578997', 'What if we just printed a flatscreen television on the side of our boxes?', 'https://medium.com/vanmoof/our-secrets-out-f21c1f03fdc8#.ietxmez43', '1', '0', 'pavel_lishin', '9/26/2016 3:19']\n",
      "\n",
      "\n",
      "['12578989', 'algorithmic music', 'http://cacm.acm.org/magazines/2011/7/109891-algorithmic-composition/fulltext', '1', '0', 'poindontcare', '9/26/2016 3:16']\n",
      "\n",
      "\n",
      "Number of rows in dataset: 293120\n"
     ]
    }
   ],
   "source": [
    "from csv import reader\n",
    "# reading .csv file and transforming data into list of lists\n",
    "opened_file = open('hacker_news.csv', encoding=\"utf8\")\n",
    "read_file = reader(opened_file)\n",
    "hn_data = list(read_file)\n",
    "# demonstrating first 5 rows\n",
    "for row in hn_data[:5]:\n",
    "    print(row)\n",
    "    print('\\n')\n",
    "print('Number of rows in dataset:', len(hn_data))"
   ]
  },
  {
   "cell_type": "markdown",
   "id": "91f19d21",
   "metadata": {},
   "source": [
    "We can see that demonstrated above posts have 0 (zero) comments. As our goal to examine posts that get more comments, we will clean our dataset from posts that don't have comments."
   ]
  },
  {
   "cell_type": "code",
   "execution_count": 3,
   "id": "b2dbbff5",
   "metadata": {},
   "outputs": [
    {
     "name": "stdout",
     "output_type": "stream",
     "text": [
      "Number of rows with '0' points: 0\n",
      "Number of rows in dataset: 80402\n",
      "First 5 rows:\n",
      "['id', 'title', 'url', 'num_points', 'num_comments', 'author', 'created_at']\n",
      "['12578975', 'Saving the Hassle of Shopping', 'https://blog.menswr.com/2016/09/07/whats-new-with-your-style-feed/', '1', '1', 'bdoux', '9/26/2016 3:13']\n",
      "['12578908', 'Ask HN: What TLD do you use for local development?', '', '4', '7', 'Sevrene', '9/26/2016 2:53']\n",
      "['12578822', 'Amazons Algorithms Dont Find You the Best Deals', 'https://www.technologyreview.com/s/602442/amazons-algorithms-dont-find-you-the-best-deals/', '1', '1', 'yarapavan', '9/26/2016 2:26']\n",
      "['12578694', 'Emergency dose of epinephrine that does not cost an arm and a leg', 'http://m.imgur.com/gallery/th6Ua', '2', '1', 'dredmorbius', '9/26/2016 1:54']\n"
     ]
    }
   ],
   "source": [
    "# collecting rows with comments in separate list 'hn'\n",
    "hn = []\n",
    "for row in hn_data:\n",
    "    if row[4] != '0':\n",
    "        hn.append(row)\n",
    "\n",
    "# checking if there are rows with '0' points\n",
    "number_points_0 = 0\n",
    "for row in hn:\n",
    "    if row[3] == '0':\n",
    "        number_points_0 += 1\n",
    "print(\"Number of rows with '0' points:\", number_points_0)        \n",
    "\n",
    "print('Number of rows in dataset:', len(hn))  \n",
    "\n",
    "print('First 5 rows:')\n",
    "\n",
    "for row in hn[:5]:\n",
    "    print(row)"
   ]
  },
  {
   "cell_type": "markdown",
   "id": "7fdb9bbe",
   "metadata": {},
   "source": [
    "We reduced our dataset to 80,402 rows."
   ]
  },
  {
   "cell_type": "markdown",
   "id": "17732b29",
   "metadata": {},
   "source": [
    "Let's extract header row and assign it to variable *headers*. Next we remove the header row from *hn* and demonstrate 5 first rows to check, that the header row was removed."
   ]
  },
  {
   "cell_type": "code",
   "execution_count": 5,
   "id": "b56a0787",
   "metadata": {},
   "outputs": [
    {
     "name": "stdout",
     "output_type": "stream",
     "text": [
      "[['12578908', 'Ask HN: What TLD do you use for local development?', '', '4', '7', 'Sevrene', '9/26/2016 2:53'], ['12578822', 'Amazons Algorithms Dont Find You the Best Deals', 'https://www.technologyreview.com/s/602442/amazons-algorithms-dont-find-you-the-best-deals/', '1', '1', 'yarapavan', '9/26/2016 2:26'], ['12578694', 'Emergency dose of epinephrine that does not cost an arm and a leg', 'http://m.imgur.com/gallery/th6Ua', '2', '1', 'dredmorbius', '9/26/2016 1:54'], ['12578624', 'Phone Makers Could Cut Off Drivers. So Why Dont They?', 'http://www.nytimes.com/2016/09/25/technology/phone-makers-could-cut-off-drivers-so-why-dont-they.html', '4', '1', 'danso', '9/26/2016 1:37'], ['12578556', 'OpenMW, Open Source Elderscrolls III: Morrowind Reimplementation', 'https://openmw.org/en/', '32', '3', 'rocky1138', '9/26/2016 1:24']] \n",
      "\n",
      "Title values: ['12578975', 'Saving the Hassle of Shopping', 'https://blog.menswr.com/2016/09/07/whats-new-with-your-style-feed/', '1', '1', 'bdoux', '9/26/2016 3:13']\n"
     ]
    }
   ],
   "source": [
    "headers = hn[0]\n",
    "hn = hn[1:]\n",
    "print(hn[:5], '\\n')\n",
    "print('Title values:', headers)"
   ]
  },
  {
   "cell_type": "markdown",
   "id": "ed0c30ab",
   "metadata": {},
   "source": [
    "## Distributing posts by titles (topics)"
   ]
  },
  {
   "cell_type": "markdown",
   "id": "9072b35f",
   "metadata": {},
   "source": [
    "Since we're only concerned with post titles beginning with Ask HN or Show HN, we'll create new lists of lists containing just the data for those titles: `ask_posts` to collect rows starting with Ask HN, `show_posts` to collect rows starting with Show HN and `other_posts` for the rest of rows. \n",
    "\n",
    "In order to make this distribution we are using `startswith()` method. And to make sure that the destribution of the rows is done correctly we are using `lower()` method."
   ]
  },
  {
   "cell_type": "code",
   "execution_count": 6,
   "id": "a5e2a380",
   "metadata": {},
   "outputs": [
    {
     "name": "stdout",
     "output_type": "stream",
     "text": [
      "6911\n",
      "[['12578908', 'Ask HN: What TLD do you use for local development?', '', '4', '7', 'Sevrene', '9/26/2016 2:53'], ['12578522', 'Ask HN: How do you pass on your work when you die?', '', '6', '3', 'PascLeRasc', '9/26/2016 1:17'], ['12577870', 'Ask HN: Why join a fund when you can be an angel?', '', '1', '3', 'anthony_james', '9/25/2016 22:48']]\n",
      "\n",
      "\n",
      "5059\n",
      "[['12577142', 'Show HN: Jumble  Essays on the go #PaulInYourPocket', 'https://itunes.apple.com/us/app/jumble-find-startup-essay/id1150939197?ls=1&mt=8', '1', '1', 'ryderj', '9/25/2016 20:06'], ['12576813', 'Show HN: Learn Japanese Vocab via multiple choice questions', 'http://japanese.vul.io/', '1', '1', 'soulchild37', '9/25/2016 19:06'], ['12576090', 'Show HN: Markov chain Twitter bot. Trained on comments left on Pornhub', 'https://twitter.com/botsonasty', '3', '1', 'keepingscore', '9/25/2016 16:50']]\n",
      "\n",
      "\n",
      "68430\n",
      "[['12578822', 'Amazons Algorithms Dont Find You the Best Deals', 'https://www.technologyreview.com/s/602442/amazons-algorithms-dont-find-you-the-best-deals/', '1', '1', 'yarapavan', '9/26/2016 2:26'], ['12578694', 'Emergency dose of epinephrine that does not cost an arm and a leg', 'http://m.imgur.com/gallery/th6Ua', '2', '1', 'dredmorbius', '9/26/2016 1:54'], ['12578624', 'Phone Makers Could Cut Off Drivers. So Why Dont They?', 'http://www.nytimes.com/2016/09/25/technology/phone-makers-could-cut-off-drivers-so-why-dont-they.html', '4', '1', 'danso', '9/26/2016 1:37']]\n",
      "\n",
      "\n"
     ]
    }
   ],
   "source": [
    "ask_posts = []\n",
    "show_posts = []\n",
    "other_posts = []\n",
    "for row in hn:\n",
    "    title = row[1]\n",
    "     # checking if the title starts with 'ask hn' in lower case\n",
    "    if title.lower().startswith('ask hn'): # checking if the title starts with 'ask hn' in lower case\n",
    "        ask_posts.append(row)\n",
    "    # if previous condition wasn't fulfilled it will be checked if the title starts with 'show hn' in lower case\n",
    "    elif title.lower().startswith('show hn'): \n",
    "        show_posts.append(row)\n",
    "    # if previous condition wasn't fulfilled the row will be appended to 'other_posts' list of lists.\n",
    "    else:\n",
    "        other_posts.append(row)\n",
    "print(len(ask_posts)) \n",
    "print(ask_posts[:3])\n",
    "print('\\n')\n",
    "print(len(show_posts))\n",
    "print(show_posts[:3])\n",
    "print('\\n')\n",
    "print(len(other_posts)) \n",
    "print(other_posts[:3])\n",
    "print('\\n')"
   ]
  },
  {
   "cell_type": "markdown",
   "id": "43144954",
   "metadata": {},
   "source": [
    "## Calculating average number of comments"
   ]
  },
  {
   "cell_type": "markdown",
   "id": "c40a4fdf",
   "metadata": {},
   "source": [
    " Now let's determine if ask posts or show posts receive more comments on average."
   ]
  },
  {
   "cell_type": "code",
   "execution_count": 7,
   "id": "22797740",
   "metadata": {},
   "outputs": [
    {
     "name": "stdout",
     "output_type": "stream",
     "text": [
      "13.744\n"
     ]
    }
   ],
   "source": [
    "# creatting variable total_ask_comments to count total amount of comments for ask posts\n",
    "total_ask_comments = 0\n",
    "for row in ask_posts:\n",
    "    num_comments = int(row[4])\n",
    "    total_ask_comments += num_comments\n",
    "# calculating average number of comments for ask_post\n",
    "avg_ask_comments = total_ask_comments / len(ask_posts)\n",
    "print(round(avg_ask_comments,3))"
   ]
  },
  {
   "cell_type": "code",
   "execution_count": 8,
   "id": "5f7ff326",
   "metadata": {},
   "outputs": [
    {
     "name": "stdout",
     "output_type": "stream",
     "text": [
      "9.811\n"
     ]
    }
   ],
   "source": [
    "# creatting variable total_show_comments to count total amount of comments for show posts\n",
    "total_show_comments = 0\n",
    "for row in show_posts:\n",
    "    num_comments = int(row[4])\n",
    "    total_show_comments += num_comments\n",
    "# calculating average number of comments for show_post    \n",
    "avg_show_comments = total_show_comments / len(show_posts)\n",
    "print(round(avg_show_comments,3))"
   ]
  },
  {
   "cell_type": "markdown",
   "id": "9311e3cb",
   "metadata": {},
   "source": [
    "Let's check what is going on in the category of *other posts*: how many comments on average do people leave?"
   ]
  },
  {
   "cell_type": "code",
   "execution_count": 10,
   "id": "1a0c6b67",
   "metadata": {},
   "outputs": [
    {
     "name": "stdout",
     "output_type": "stream",
     "text": [
      "25.839\n"
     ]
    }
   ],
   "source": [
    "# creatting variable total_show_comments to count total amount of comments for other posts\n",
    "total_other_comments = 0\n",
    "for row in other_posts:\n",
    "    num_comments = int(row[4])\n",
    "    total_other_comments += num_comments\n",
    "# calculating average number of comments for other_post\n",
    "avg_other_comments = total_other_comments / len(other_posts)\n",
    "print(round(avg_other_comments,3))"
   ]
  },
  {
   "cell_type": "markdown",
   "id": "0268ae50",
   "metadata": {},
   "source": [
    "We can see that on average ask_posts get more response than show_posts. May be this is because people prefer to give advice than to give some kind of feedback on something. \n",
    "\n",
    "Also we can see that post with other titles have the biggest average number of comments. This can happen due to the fact that there a lot of different topics. Some of the topics can be very popular or controversial, thats why people discuss them a lot."
   ]
  },
  {
   "cell_type": "markdown",
   "id": "1b8e41ec",
   "metadata": {},
   "source": [
    "# Analysis of Ask posts"
   ]
  },
  {
   "cell_type": "markdown",
   "id": "1f164dfa",
   "metadata": {},
   "source": [
    "## Distributing number of posts and comments by hour created"
   ]
  },
  {
   "cell_type": "markdown",
   "id": "174d20cb",
   "metadata": {},
   "source": [
    "Since **Ask posts** are more likely to receive comments, we'll focus our remaining analysis just on these posts."
   ]
  },
  {
   "cell_type": "markdown",
   "id": "d1d337a6",
   "metadata": {},
   "source": [
    "Next, we'll determine if ask posts created at a certain time are more likely to attract comments. We'll use the following steps to perform this analysis:\n",
    "\n",
    "- Calculate the number of ask posts created in each hour of the day, along with the number of comments received.\n",
    "- Calculate the average number of comments ask posts receive by hour created.\n",
    "First, we'll work on calculating the number of ask posts and comments by hour created. We'll use the datetime module to work with the data in the created_at column."
   ]
  },
  {
   "cell_type": "markdown",
   "id": "7addb1d1",
   "metadata": {},
   "source": [
    "Now let's create an empty list `result_list`, we will iterate over `ask_posts` list of list and append a list of 2 elements (the column 'created_at', the number of comments of the post) to the `result_list`."
   ]
  },
  {
   "cell_type": "code",
   "execution_count": 14,
   "id": "4b864dbb",
   "metadata": {},
   "outputs": [
    {
     "name": "stdout",
     "output_type": "stream",
     "text": [
      "[['9/26/2016 2:53', 7], ['9/26/2016 1:17', 3], ['9/25/2016 22:48', 3], ['9/25/2016 21:50', 2], ['9/25/2016 19:30', 1]]\n"
     ]
    }
   ],
   "source": [
    "result_list = []\n",
    "for row in ask_posts:\n",
    "    result_list.append([row[6], int(row[4])])\n",
    "print(result_list[:5])\n"
   ]
  },
  {
   "cell_type": "markdown",
   "id": "0bf661d9",
   "metadata": {},
   "source": [
    "Next, we are creating 2 empty dictionaries `counts_by_hour` to collect there information about created post in each hour and `comments_by_hour` to collect there information about number of comments left in each hour. To do that we need to create a datetime object using datetime.strptime()."
   ]
  },
  {
   "cell_type": "code",
   "execution_count": 15,
   "id": "b49a0436",
   "metadata": {},
   "outputs": [
    {
     "name": "stdout",
     "output_type": "stream",
     "text": [
      "Posts created by hour: {'02': 227, '01': 223, '22': 287, '21': 407, '19': 420, '17': 404, '15': 467, '14': 378, '13': 326, '11': 251, '10': 219, '09': 176, '07': 157, '03': 212, '16': 415, '08': 190, '00': 231, '23': 276, '20': 392, '18': 452, '12': 274, '04': 186, '06': 176, '05': 165}\n",
      "Comments left by hour: {'02': 2996, '01': 2089, '22': 3372, '21': 4500, '19': 3954, '17': 5547, '15': 18525, '14': 4972, '13': 7245, '11': 2797, '10': 3013, '09': 1477, '07': 1585, '03': 2154, '16': 4466, '08': 2362, '00': 2277, '23': 2297, '20': 4462, '18': 4877, '12': 4234, '04': 2360, '06': 1587, '05': 1838}\n"
     ]
    }
   ],
   "source": [
    "# importing datetime module using alias 'dt' \n",
    "import datetime as dt\n",
    "\n",
    "counts_by_hour = {}\n",
    "comments_by_hour = {}\n",
    "\n",
    "for row in result_list:\n",
    "    comments = row[1]\n",
    "    date_str = row[0]\n",
    "    # creating datetime object from the string 'date_str'\n",
    "    date_dt = dt.datetime.strptime(date_str, \"%m/%d/%Y %H:%M\") \n",
    "    # extracting hour from the datetime object and assigning to variable hour_created\n",
    "    hour_created = date_dt.strftime('%H')\n",
    "     \n",
    "    if hour_created not in counts_by_hour:\n",
    "        counts_by_hour[hour_created] = 1\n",
    "        comments_by_hour[hour_created] = comments\n",
    "    else:\n",
    "        counts_by_hour[hour_created] += 1\n",
    "        comments_by_hour[hour_created] += comments\n",
    "print('Posts created by hour:', counts_by_hour) \n",
    "print('Comments left by hour:', comments_by_hour) "
   ]
  },
  {
   "cell_type": "markdown",
   "id": "46c07685",
   "metadata": {},
   "source": [
    "## Calculating average number of comments for each hour"
   ]
  },
  {
   "cell_type": "markdown",
   "id": "6b5ca22d",
   "metadata": {},
   "source": [
    "Now we will create a list of lists `avg_by_hour` containing the hours during which posts were created and the average number of comments those posts received."
   ]
  },
  {
   "cell_type": "code",
   "execution_count": 16,
   "id": "e2efd80f",
   "metadata": {},
   "outputs": [
    {
     "name": "stdout",
     "output_type": "stream",
     "text": [
      "['02', 13.198]\n",
      "['01', 9.368]\n",
      "['22', 11.749]\n",
      "['21', 11.057]\n",
      "['19', 9.414]\n",
      "['17', 13.73]\n",
      "['15', 39.668]\n",
      "['14', 13.153]\n",
      "['13', 22.224]\n",
      "['11', 11.143]\n",
      "['10', 13.758]\n",
      "['09', 8.392]\n",
      "['07', 10.096]\n",
      "['03', 10.16]\n",
      "['16', 10.761]\n",
      "['08', 12.432]\n",
      "['00', 9.857]\n",
      "['23', 8.322]\n",
      "['20', 11.383]\n",
      "['18', 10.79]\n",
      "['12', 15.453]\n",
      "['04', 12.688]\n",
      "['06', 9.017]\n",
      "['05', 11.139]\n"
     ]
    }
   ],
   "source": [
    "avg_by_hour = []\n",
    "for key in comments_by_hour:\n",
    "    # calculating the average number of comments for each hour\n",
    "    # for better readability we round the avg value up to 3 symbols\n",
    "    avg_comments = round(comments_by_hour[key] / counts_by_hour[key], 3)\n",
    "    avg_by_hour.append([key, avg_comments]) \n",
    "for row in avg_by_hour:\n",
    "    print(row)"
   ]
  },
  {
   "cell_type": "markdown",
   "id": "bc184551",
   "metadata": {},
   "source": [
    "## Formatting the output in more readable way"
   ]
  },
  {
   "cell_type": "markdown",
   "id": "41216c69",
   "metadata": {},
   "source": [
    "In order to make it easier to sort our data, let's swap the columns."
   ]
  },
  {
   "cell_type": "code",
   "execution_count": 19,
   "id": "20ed6250",
   "metadata": {},
   "outputs": [
    {
     "name": "stdout",
     "output_type": "stream",
     "text": [
      "[[39.668, '15'], [22.224, '13'], [15.453, '12'], [13.758, '10'], [13.73, '17'], [13.198, '02'], [13.153, '14'], [12.688, '04'], [12.432, '08'], [11.749, '22'], [11.383, '20'], [11.143, '11'], [11.139, '05'], [11.057, '21'], [10.79, '18'], [10.761, '16'], [10.16, '03'], [10.096, '07'], [9.857, '00'], [9.414, '19'], [9.368, '01'], [9.017, '06'], [8.392, '09'], [8.322, '23']]\n"
     ]
    }
   ],
   "source": [
    "# creating empty list of lists to place there swapped columns\n",
    "swap_avg_by_hour = []\n",
    "for row in avg_by_hour:\n",
    "    x = row[0]\n",
    "    y = row[1]\n",
    "    swap_avg_by_hour.append([y, x])\n",
    "\n",
    "# sorting our data in descending order\n",
    "sorted_swap = sorted(swap_avg_by_hour, reverse=True)\n",
    "print(sorted_swap)\n"
   ]
  },
  {
   "cell_type": "code",
   "execution_count": 20,
   "id": "3dc53198",
   "metadata": {},
   "outputs": [
    {
     "name": "stdout",
     "output_type": "stream",
     "text": [
      "Top 5 Hours for Ask Posts Comments:\n",
      "[39.668, '15']\n",
      "[22.224, '13']\n",
      "[15.453, '12']\n",
      "[13.758, '10']\n",
      "[13.73, '17']\n"
     ]
    }
   ],
   "source": [
    "# demonstrating top 5 commented hours\n",
    "print(\"Top 5 Hours for Ask Posts Comments:\")\n",
    "for hour in sorted_swap[:5]:\n",
    "    print(hour)"
   ]
  },
  {
   "cell_type": "markdown",
   "id": "145c800b",
   "metadata": {},
   "source": [
    "Let's demonstrate our findings in a more readable way: using string formating."
   ]
  },
  {
   "cell_type": "code",
   "execution_count": 21,
   "id": "a3e34dcc",
   "metadata": {},
   "outputs": [
    {
     "name": "stdout",
     "output_type": "stream",
     "text": [
      "15:00: 39.67 average comments per post\n",
      "13:00: 22.22 average comments per post\n",
      "12:00: 15.45 average comments per post\n",
      "10:00: 13.76 average comments per post\n",
      "17:00: 13.73 average comments per post\n"
     ]
    }
   ],
   "source": [
    "for hour in sorted_swap[:5]:\n",
    "    time_str = hour[1]\n",
    "    # creating datetime object from the string\n",
    "    time_dt = dt.datetime.strptime(time_str, '%H')\n",
    "    # setting the format of the string - transforming from 'hour' format to 'hour:minute' format\n",
    "    post_time = time_dt.strftime('%H:%M')\n",
    "    average = hour[0]\n",
    "    print(f'{post_time}: {average:.2f} average comments per post')"
   ]
  },
  {
   "cell_type": "markdown",
   "id": "50b91965",
   "metadata": {},
   "source": [
    "# Analysis of Other posts\n",
    "## Distributing number of posts and comments by hour created"
   ]
  },
  {
   "cell_type": "markdown",
   "id": "179f5871",
   "metadata": {},
   "source": [
    "Our main goal goal was to check  Ask HN and Show HN posts. \n",
    "\n",
    "But as we've got a big value for average number of comments in the category 'other posts', it will be interesting to analyse this data too. And check if there is the same commenting pattern as for Ask posts.\n",
    "\n",
    "Let's do the same analysis for other posts as we have made for Ask posts."
   ]
  },
  {
   "cell_type": "code",
   "execution_count": 23,
   "id": "3377fd0d",
   "metadata": {},
   "outputs": [
    {
     "name": "stdout",
     "output_type": "stream",
     "text": [
      "[[1, '9/26/2016 2:26'], [1, '9/26/2016 1:54'], [1, '9/26/2016 1:37'], [3, '9/26/2016 1:24'], [1, '9/26/2016 0:31']]\n"
     ]
    }
   ],
   "source": [
    "other_posts_result = []\n",
    "for row in other_posts:\n",
    "    other_posts_result.append([int(row[4]), row[6]])\n",
    "print(other_posts_result[:5])    "
   ]
  },
  {
   "cell_type": "markdown",
   "id": "728b2256",
   "metadata": {},
   "source": [
    "Creating 2 empty dictionaries counts_by_hour to collect there information about created post in each hour and comments_by_hour to collect there information about number of comments left in each hour. To do that we need to create a datetime object using datetime.strptime()."
   ]
  },
  {
   "cell_type": "code",
   "execution_count": 33,
   "id": "4fb4c48d",
   "metadata": {},
   "outputs": [
    {
     "name": "stdout",
     "output_type": "stream",
     "text": [
      "Posts created by hour: {'02': 1870, '01': 2031, '00': 2271, '23': 2556, '22': 2995, '21': 3470, '20': 3730, '19': 3986, '18': 4314, '17': 4392, '16': 4335, '15': 4122, '14': 3854, '13': 3619, '12': 3085, '11': 2620, '10': 2298, '09': 2149, '08': 1919, '07': 1826, '06': 1789, '05': 1598, '04': 1861, '03': 1740}\n",
      "Comments left by hour: {'02': 50100, '01': 47756, '00': 55491, '23': 58378, '22': 68059, '21': 79996, '20': 88320, '19': 101127, '18': 112502, '17': 118217, '16': 116322, '15': 115286, '14': 108277, '13': 106302, '12': 90082, '11': 71072, '10': 59147, '09': 56141, '08': 49804, '07': 44424, '06': 43050, '05': 41773, '04': 43753, '03': 42762}\n"
     ]
    }
   ],
   "source": [
    "other_posts_byhour = {}\n",
    "other_comments_byhour = {}\n",
    "for row in other_posts_result:\n",
    "    comments = row[0]\n",
    "    date_str = row[1]\n",
    "     # creating datetime object from the string 'date_str'\n",
    "    date_dt = dt.datetime.strptime(date_str, \"%m/%d/%Y %H:%M\")\n",
    "    # extracting hour from the datetime object and assigning to variable hour_created\n",
    "    hour_created = date_dt.strftime(\"%H\")\n",
    "    if hour_created not in other_posts_byhour:\n",
    "        other_posts_byhour[hour_created] = 1\n",
    "        other_comments_byhour[hour_created] = comments\n",
    "    else:\n",
    "        other_posts_byhour[hour_created] += 1\n",
    "        other_comments_byhour[hour_created] += comments\n",
    "print('Posts created by hour:', other_posts_byhour) \n",
    "print('Comments left by hour:', other_comments_byhour)        "
   ]
  },
  {
   "cell_type": "markdown",
   "id": "eaf3e9e8",
   "metadata": {},
   "source": [
    "## Calculating average number of comments for each hour"
   ]
  },
  {
   "cell_type": "code",
   "execution_count": 34,
   "id": "78194412",
   "metadata": {},
   "outputs": [
    {
     "name": "stdout",
     "output_type": "stream",
     "text": [
      "[26.79, '02']\n",
      "[23.51, '01']\n",
      "[24.43, '00']\n",
      "[22.84, '23']\n",
      "[22.72, '22']\n",
      "[23.05, '21']\n",
      "[23.68, '20']\n",
      "[25.37, '19']\n",
      "[26.08, '18']\n",
      "[26.92, '17']\n",
      "[26.83, '16']\n",
      "[27.97, '15']\n",
      "[28.09, '14']\n",
      "[29.37, '13']\n",
      "[29.2, '12']\n",
      "[27.13, '11']\n",
      "[25.74, '10']\n",
      "[26.12, '09']\n",
      "[25.95, '08']\n",
      "[24.33, '07']\n",
      "[24.06, '06']\n",
      "[26.14, '05']\n",
      "[23.51, '04']\n",
      "[24.58, '03']\n"
     ]
    }
   ],
   "source": [
    "#creating a list of lists containing the hours during which posts were created \n",
    "#and the average number of comments those posts received.\n",
    "other_avg_byhour = []\n",
    "for key in other_comments_byhour:\n",
    "    # calculating the average number of comments for each hour\n",
    "    # for better readability we round the avg value up to 2 symbols\n",
    "    average_comment = round(other_comments_byhour[key] / other_posts_byhour[key], 2)\n",
    "    other_avg_byhour.append([average_comment, key])\n",
    "for row in other_avg_byhour:\n",
    "    print(row)"
   ]
  },
  {
   "cell_type": "markdown",
   "id": "fec24db6",
   "metadata": {},
   "source": [
    "## Formatting the output in more readable way"
   ]
  },
  {
   "cell_type": "code",
   "execution_count": 35,
   "id": "c6d407e7",
   "metadata": {},
   "outputs": [
    {
     "name": "stdout",
     "output_type": "stream",
     "text": [
      "13:00: 29.37 average comments per post\n",
      "12:00: 29.2 average comments per post\n",
      "14:00: 28.09 average comments per post\n",
      "15:00: 27.97 average comments per post\n",
      "11:00: 27.13 average comments per post\n"
     ]
    }
   ],
   "source": [
    "# sorting our list of lists in descending order\n",
    "sorted_other_avg = sorted(other_avg_byhour, reverse=True)\n",
    "# demonstrating our findings in a more readable way: using string formating.\n",
    "for hour in sorted_other_avg[:5]:\n",
    "    date_str = hour[1]\n",
    "    date_dt = dt.datetime.strptime(date_str, \"%H\")\n",
    "    hour_str = date_dt.strftime(\"%H:%M\")\n",
    "    average_com = hour[0]\n",
    "    print(f'{hour_str}: {average_com} average comments per post')"
   ]
  },
  {
   "cell_type": "markdown",
   "id": "e3ab145d",
   "metadata": {},
   "source": [
    "# Conclusion"
   ]
  },
  {
   "cell_type": "markdown",
   "id": "f1b83c53",
   "metadata": {},
   "source": [
    "Our main goalwas to compare  two types of posts to determine the following:\n",
    "\n",
    "- Do **Ask HN** or **Show HN** receive more comments on average?\n",
    "- Do posts created at a certain time receive more comments on average?\n",
    "\n",
    "We found out that on average Ask_posts receive more comments than Show posts (13.744 versus 9.81).\n",
    "We can assume that this is because people prefer to give advice than to give some kind of feedback on something.\n",
    "\n",
    "Also we checked the situation in the rest of posts (othe_posts) and found out that they the biggest average number of comments. This can happen due to the fact that there a lot of different topics. Some of the topics can be very popular or controversial, thats why people discuss them a lot.\n",
    "\n",
    "Regarding the second question, the analysis of Ask posts showed that the most commented hours are day time hours:\n",
    "\n",
    "- 15:00\n",
    "- 13:00\n",
    "- 12:00\n",
    "- 10:00\n",
    "- 17:00\n",
    "\n",
    "Analysis of Other posts showed that on average all hours don't differ to much. The average numbers of comments are pretty similar for each hour of the day. The first 5 leaders are:\n",
    "- 13:00\n",
    "- 12:00\n",
    "- 14:00\n",
    "- 15:00\n",
    "- 11:00\n",
    "\n",
    "So if you are deciding what time to post, in order to receive the most possible amount of comments or feedback, the answer is: do it between 11:00  and 15:00."
   ]
  },
  {
   "cell_type": "code",
   "execution_count": null,
   "id": "c43f2fe5",
   "metadata": {},
   "outputs": [],
   "source": []
  }
 ],
 "metadata": {
  "kernelspec": {
   "display_name": "Python 3",
   "language": "python",
   "name": "python3"
  },
  "language_info": {
   "codemirror_mode": {
    "name": "ipython",
    "version": 3
   },
   "file_extension": ".py",
   "mimetype": "text/x-python",
   "name": "python",
   "nbconvert_exporter": "python",
   "pygments_lexer": "ipython3",
   "version": "3.8.8"
  }
 },
 "nbformat": 4,
 "nbformat_minor": 5
}
